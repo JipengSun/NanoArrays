{
 "cells": [
  {
   "cell_type": "code",
   "execution_count": 1,
   "metadata": {},
   "outputs": [],
   "source": [
    "%load_ext autoreload\n",
    "%autoreload 2\n",
    "\n",
    "import models.dataset_1 as ds\n",
    "import glob\n",
    "\n",
    "data_path_blur = './Data/input/'\n",
    "data_path_gt = './Data/input/'"
   ]
  },
  {
   "cell_type": "code",
   "execution_count": 2,
   "metadata": {},
   "outputs": [
    {
     "name": "stdout",
     "output_type": "stream",
     "text": [
      "total number of images 5196\n"
     ]
    }
   ],
   "source": [
    "filepath_all_gt = glob.glob(data_path_gt+'*')\n",
    "filepath_all_blur = glob.glob(data_path_blur+'*')\n",
    "print('total number of images',len(filepath_all_blur))\n",
    "total_num_images = len(filepath_all_blur)\n",
    "\n"
   ]
  }
 ],
 "metadata": {
  "kernelspec": {
   "display_name": "Python 3.9.15 ('ddrm')",
   "language": "python",
   "name": "python3"
  },
  "language_info": {
   "codemirror_mode": {
    "name": "ipython",
    "version": 3
   },
   "file_extension": ".py",
   "mimetype": "text/x-python",
   "name": "python",
   "nbconvert_exporter": "python",
   "pygments_lexer": "ipython3",
   "version": "3.9.15"
  },
  "orig_nbformat": 4,
  "vscode": {
   "interpreter": {
    "hash": "bb5b685b659430d047117eafad1db2449b30f5e869d8b63f731d39879c251f60"
   }
  }
 },
 "nbformat": 4,
 "nbformat_minor": 2
}
